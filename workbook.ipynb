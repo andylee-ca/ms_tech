{
 "cells": [
  {
   "cell_type": "code",
   "execution_count": null,
   "id": "1eba6900",
   "metadata": {},
   "outputs": [],
   "source": [
    "# Import necessary libraries\n",
    "import pandas as pd\n",
    "import numpy as np\n",
    "\n",
    "\n",
    "# load the json data file\n",
    "def load_json_data(file_path):\n",
    "    try:\n",
    "        data = pd.read_json(file_path, orient=\"records\", lines=False)\n",
    "        return data\n",
    "    except ValueError as e:\n",
    "        print(f\"Error loading JSON data: {e}\")\n",
    "        return None\n",
    "    "
   ]
  },
  {
   "cell_type": "code",
   "execution_count": null,
   "id": "f08a0282",
   "metadata": {},
   "outputs": [],
   "source": [
    "# List of spelled-out numbers for matching in questions\n",
    "SPELLED_NUMBERS = [\n",
    "    \"one\", \"two\", \"three\", \"four\", \"five\", \"six\", \"seven\", \"eight\", \"nine\", \"ten\",\n",
    "    \"eleven\", \"twelve\", \"thirteen\", \"fourteen\", \"fifteen\", \"sixteen\", \"seventeen\", \"eighteen\", \"nineteen\", \"twenty\",\n",
    "    \"thirty\", \"forty\", \"fifty\", \"sixty\", \"seventy\", \"eighty\", \"ninety\",\n",
    "    \"hundred\", \"thousand\", \"million\", \"billion\"\n",
    "]\n",
    "\n",
    "# twice, first, double, second, triple, third, quadruple, fourth, quintuple, fifth, sextuple, sixth, septuple, seventh, octuple, eighth, nonuple, ninth\n",
    "# list of time interals\n",
    "# decade, century, millennium, fortnight"
   ]
  },
  {
   "cell_type": "code",
   "execution_count": null,
   "id": "152d9fdb",
   "metadata": {},
   "outputs": [],
   "source": [
    "# preprocess the data\n",
    "JSON_FILE_PATH = './dataset/JEOPARDY_QUESTIONS1.json'\n",
    "df = load_json_data(JSON_FILE_PATH)"
   ]
  }
 ],
 "metadata": {
  "kernelspec": {
   "display_name": ".venv",
   "language": "python",
   "name": "python3"
  },
  "language_info": {
   "codemirror_mode": {
    "name": "ipython",
    "version": 3
   },
   "file_extension": ".py",
   "mimetype": "text/x-python",
   "name": "python",
   "nbconvert_exporter": "python",
   "pygments_lexer": "ipython3",
   "version": "3.9.6"
  }
 },
 "nbformat": 4,
 "nbformat_minor": 5
}
