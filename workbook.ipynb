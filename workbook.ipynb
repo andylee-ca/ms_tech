{
 "cells": [
  {
   "cell_type": "code",
   "execution_count": 2,
   "id": "1eba6900",
   "metadata": {},
   "outputs": [],
   "source": [
    "# Import necessary libraries\n",
    "import pandas as pd\n",
    "import numpy as np\n",
    "import re\n",
    "\n"
   ]
  },
  {
   "cell_type": "code",
   "execution_count": 3,
   "id": "694759cf",
   "metadata": {},
   "outputs": [],
   "source": [
    "# Constants and Patterns\n",
    "\n",
    "# Regex for matching roman numerals\n",
    "ROMAN_NUMERAL_PATTERN = re.compile(\n",
    "    r'^(M{0,3})(CM|CD|D?C{0,3})'\n",
    "    r'(XC|XL|L?X{0,3})(IX|IV|V?I{0,3})$', re.IGNORECASE\n",
    ")\n",
    "\n",
    "# Spelled-out numbers\n",
    "SPELLED_NUMBERS = [\n",
    "    \"one\", \"two\", \"three\", \"four\", \"five\", \"six\", \"seven\", \"eight\", \"nine\", \"ten\",\n",
    "    \"eleven\", \"twelve\", \"thirteen\", \"fourteen\", \"fifteen\", \"sixteen\", \"seventeen\", \"eighteen\", \"nineteen\", \"twenty\",\n",
    "    \"thirty\", \"forty\", \"fifty\", \"sixty\", \"seventy\", \"eighty\", \"ninety\",\n",
    "    \"hundred\", \"thousand\", \"million\", \"billion\"\n",
    "]\n",
    "\n",
    "SPELLED_NUMBERS += ['first', 'second', 'third', 'fourth', 'fifth', 'sixth', 'seventh', 'eighth', 'ninth', 'tenth']\n",
    "SPELLED_NUMBERS += ['eleventh', 'twelfth', 'thirteenth', 'fourteenth', 'fifteenth', 'sixteenth', 'seventeenth', 'eighteenth', 'nineteenth']\n",
    "SPELLED_NUMBERS += ['twentieth', 'thirtieth', 'fortieth', 'fiftieth', 'sixtieth', 'seventieth', 'eightieth', 'ninetieth']\n",
    "SPELLED_NUMBERS += ['hundredth', 'thousandth', 'millionth', 'billionth']\n",
    "\n",
    "SPELLED_NUMBERS += ['twice', 'thrice', 'once']\n",
    "SPELLED_NUMBERS += ['single', 'double', 'triple', 'quadruple', 'quintuple', 'sextuple', 'septuple', 'octuple', 'nonuple', 'decuple']\n",
    "SPELLED_NUMBERS += ['dozen', 'fortnight', 'score', 'century', 'millennium']\n"
   ]
  },
  {
   "cell_type": "code",
   "execution_count": 4,
   "id": "ba9075e4",
   "metadata": {},
   "outputs": [],
   "source": [
    "\n",
    "# File functions\n",
    "# Load JSON data from a file\n",
    "def load_json_data(file_path):\n",
    "    try:\n",
    "        data = pd.read_json(file_path, orient=\"records\", lines=False)\n",
    "        return data\n",
    "    except ValueError as e:\n",
    "        print(f\"Error loading JSON data: {e}\")\n",
    "        return None\n",
    "\n",
    "\n",
    "def strip_html_tags(text):\n",
    "    \"\"\"\n",
    "    Strips HTML tags from a string.\n",
    "\n",
    "    Args:\n",
    "        text (str): The input string potentially containing HTML tags.\n",
    "\n",
    "    Returns:\n",
    "        str: The string with HTML tags removed.\n",
    "    \"\"\"\n",
    "    # Regex to find any HTML tag: < followed by any characters, then >\n",
    "    # The '?' makes it non-greedy, matching the shortest possible string.\n",
    "    # The '|' handles self-closing tags like <br/> or <img src=\"...\">\n",
    "    # and also comments (though less common in user-generated text usually)\n",
    "    clean = re.compile('<.*?>|&([a-z0-9]+|#[0-9]{1,6}|#x[0-9a-f]{1,6});')\n",
    "    return re.sub(clean, '', text)\n",
    "\n",
    "def strip_quotes(text):\n",
    "    \"\"\"\n",
    "    Strips quotes only if it appears at the start and end of the argument text.\n",
    "    \"\"\"\n",
    "    if text.startswith('\"') and text.endswith('\"'):\n",
    "        return text[1:-1]\n",
    "    elif text.startswith(\"'\") and text.endswith(\"'\"):\n",
    "        return text[1:-1]\n",
    "    return text"
   ]
  },
  {
   "cell_type": "code",
   "execution_count": 5,
   "id": "152d9fdb",
   "metadata": {},
   "outputs": [],
   "source": [
    "# preprocess the data\n",
    "JSON_FILE_PATH = './dataset/JEOPARDY_QUESTIONS1.json'\n",
    "df = load_json_data(JSON_FILE_PATH)"
   ]
  },
  {
   "cell_type": "code",
   "execution_count": 6,
   "id": "f66002ce",
   "metadata": {},
   "outputs": [],
   "source": [
    "# Pre-cleaning steps\n",
    "\n",
    "# create copy of question to original_question\n",
    "df['original_question'] = df['question'].copy()\n",
    "\n",
    "# Strip HTML tags from the 'question' column\n",
    "df['question'] = df['question'].apply(strip_html_tags)\n",
    "\n",
    "# Strip quotes from the 'question' column\n",
    "df['question'] = df['question'].apply(strip_quotes)"
   ]
  },
  {
   "cell_type": "code",
   "execution_count": 7,
   "id": "ae5fab89",
   "metadata": {},
   "outputs": [],
   "source": [
    "# Check for spelled numbers in the 'question' column\n",
    "df['has_spelled_number'] = df['question'].apply(\n",
    "    lambda x: any(token in x.lower() for token in SPELLED_NUMBERS)\n",
    ")\n",
    "\n",
    "# Check for roman numerals in the 'question' column\n",
    "df['has_roman_numeral'] = df['question'].apply(\n",
    "    lambda x: any(ROMAN_NUMERAL_PATTERN.match(token) for token in x.split())\n",
    ")\n",
    "\n",
    "# Check for numerical values in the 'question' column\n",
    "df['has_numerical_value'] = df['question'].apply(\n",
    "    lambda x: any(token.isdigit() for token in x.split())\n",
    ")"
   ]
  },
  {
   "cell_type": "code",
   "execution_count": 23,
   "id": "ebd0e78c",
   "metadata": {},
   "outputs": [
    {
     "data": {
      "text/plain": [
       "category\n",
       "BEFORE & AFTER      547\n",
       "SCIENCE             519\n",
       "LITERATURE          496\n",
       "AMERICAN HISTORY    418\n",
       "POTPOURRI           401\n",
       "                   ... \n",
       "THE OSCARS          102\n",
       "FAMOUS WOMEN        102\n",
       "PLAYWRIGHTS         102\n",
       "ANCIENT HISTORY     102\n",
       "LIBRARIES           101\n",
       "Name: count, Length: 145, dtype: int64"
      ]
     },
     "execution_count": 23,
     "metadata": {},
     "output_type": "execute_result"
    }
   ],
   "source": [
    "df['category'].value_counts()[df['category'].value_counts() > 100]\n"
   ]
  },
  {
   "cell_type": "code",
   "execution_count": 24,
   "id": "d5d96a29",
   "metadata": {},
   "outputs": [
    {
     "name": "stdout",
     "output_type": "stream",
     "text": [
      "Sample questions with spelled numbers:\n",
      "79046. Category: \"P\" IS FOR PHYSICS, Question: A cube is an example of a rectangular one of these; A Pink Floyd cover displays a triangular one\n",
      "177400. Category: \"K\" RATIONS, Question: In 1891 African-American jockey Isaac Murphy became the first man to win this horse race 3 times\n",
      "130831. Category: NAME ANAGRAMS, Question: Stewart pulls one out when a fly goes by\n",
      "79664. Category: GERMAN SCIENCE, Question: Around 1850 Helmholtz clocked impulses moving along these body parts at about 90 feet per second\n",
      "94227. Category: SHAKESPEARE TITLES IN OTHER WORDS, Question: \"A Subjugation for One Small Burrowing Mammal\"\n",
      "Sample questions with roman numerals:\n",
      "151379. Category: THEY COME IN SEVENS, Question: Can I get an amen for Pope Gregory, who thankfully reduced the list of these to 7\n",
      "42201. Category: IF I HAD A HAMMER..., Question: William Wallace's nemesis, Edward I of England, was called the hammer of these people\n",
      "177781. Category: ROBERT FROST BITES, Question: \"The woods are\" these 3 things, \"but I have promises to keep, and miles to go before I sleep\"\n",
      "33467. Category: AKA, Question: Current show that stars Edward Bridge Danson III\n",
      "76310. Category: THE NEW YORK STOCK EXCHANGE, Question: (Hi, I'm Maria Bartiromo.)  Heard every day to end trading, it's also the title of an afternoon show I host on CNBC\n",
      "Sample questions with numerical values:\n",
      "144486. Category: THE BIG WHIGS, Question: In 1840 the 2 major political parties in the U.S. were the Whigs & this party\n",
      "8734. Category: REEL MOTHERS, Question: Title of the 1981 biopic about the woman seen here:  \"I wouldn't turn against you if it meant my life.  You are my life.\"\n",
      "72646. Category: THE WESTERN U.S., Question: The Plaza has been the heart of this Southwestern state capital since it was founded in 1610\n",
      "129295. Category: VERMONT, Question: In 1974 he became Vermont's first Democrat elected to the U.S. Senate; he's still there\n",
      "125666. Category: BASKETBALL, Question: In May 1997 this former Celtics star returned to his home state to become coach of the Indiana Pacers\n"
     ]
    }
   ],
   "source": [
    "# Output samples of spelling numbers\n",
    "print(\"Sample questions with spelled numbers:\")\n",
    "sample_list = df[df['has_spelled_number']].sample(5)[['category', 'question']]\n",
    "\n",
    "for idx, row in sample_list.iterrows():\n",
    "    print(f\"{idx}. Category: {row['category']}, Question: {row['question']}\")\n",
    "\n",
    "# Output samples of roman numerals\n",
    "print(\"Sample questions with roman numerals:\")\n",
    "sample_list = df[df['has_roman_numeral']].sample(5)[['category', 'question']]\n",
    "for idx, row in sample_list.iterrows():\n",
    "    print(f\"{idx}. Category: {row['category']}, Question: {row['question']}\")\n",
    "\n",
    "# Output samples of numerical values\n",
    "print(\"Sample questions with numerical values:\")\n",
    "sample_list = df[df['has_numerical_value']].sample(5)[['category', 'question']]\n",
    "for idx, row in sample_list.iterrows():\n",
    "    print(f\"{idx}. Category: {row['category']}, Question: {row['question']}\")\n"
   ]
  }
 ],
 "metadata": {
  "kernelspec": {
   "display_name": ".venv",
   "language": "python",
   "name": "python3"
  },
  "language_info": {
   "codemirror_mode": {
    "name": "ipython",
    "version": 3
   },
   "file_extension": ".py",
   "mimetype": "text/x-python",
   "name": "python",
   "nbconvert_exporter": "python",
   "pygments_lexer": "ipython3",
   "version": "3.9.6"
  }
 },
 "nbformat": 4,
 "nbformat_minor": 5
}
